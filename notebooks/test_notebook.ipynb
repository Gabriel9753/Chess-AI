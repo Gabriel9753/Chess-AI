{
 "cells": [
  {
   "cell_type": "code",
   "execution_count": null,
   "metadata": {},
   "outputs": [],
   "source": [
    "import pandas as pd\n",
    "import math\n",
    "from sklearn.preprocessing import MinMaxScaler\n",
    "import re\n",
    "import numpy as np\n",
    "from tqdm import tqdm\n",
    "# pytorch libraries\n",
    "import torch\n",
    "import torch.nn as nn\n",
    "import torch.nn.functional as F\n",
    "import torch.optim as optim\n",
    "from torch.utils.data import Dataset, DataLoader\n",
    "from ChessDataset import ChessDataset\n",
    "from ChessNet import Net\n",
    "from torch.optim import lr_scheduler\n",
    "import optuna\n",
    "import matplotlib.pyplot as plt\n",
    "import util as ut\n",
    "\n",
    "from optuna.trial import TrialState"
   ]
  },
  {
   "cell_type": "code",
   "execution_count": null,
   "metadata": {},
   "outputs": [],
   "source": [
    "df = pd.read_csv('../data/01_raw/small_all_data.csv')"
   ]
  },
  {
   "cell_type": "code",
   "execution_count": null,
   "metadata": {},
   "outputs": [],
   "source": [
    "df.describe()"
   ]
  },
  {
   "cell_type": "code",
   "execution_count": null,
   "metadata": {},
   "outputs": [],
   "source": [
    "def process_data(df):\n",
    "    df['Evaluation'] = df['Evaluation'].apply(ut.eval_to_number)\n",
    "    # normalize the evaluation column to be between -10 and 10\n",
    "    scaler = MinMaxScaler(feature_range=(-50, 50))\n",
    "    df['Normalized Evaluation'] = scaler.fit_transform(df['Evaluation'].values.reshape(-1, 1))\n",
    "    \n",
    "    # remove data in normalized evaluation that is not between -2 and 2\n",
    "    df_only_between = df[(df['Normalized Evaluation'] > -5) & (df['Normalized Evaluation'] < 5)]\n",
    "    scaler = MinMaxScaler(feature_range=(-30, 30))\n",
    "    df_only_between['Normalized Evaluation'] = scaler.fit_transform(df_only_between['Normalized Evaluation'].values.reshape(-1, 1))\n",
    "    \n",
    "    df_not_between = df[(df['Normalized Evaluation'] <= -5) | (df['Normalized Evaluation'] >= 5)]\n",
    "    df_not_between = df_not_between[(df_not_between['Normalized Evaluation'] <= -30) | (df_not_between['Normalized Evaluation'] >= 30)]\n",
    "    \n",
    "    df = pd.concat([df_only_between, df_not_between])\n",
    "    \n",
    "    # sample the data and split into train and validation and test\n",
    "    df = df.sample(frac=1)\n",
    "    df_train = df[:int(len(df) * 0.8)]\n",
    "    df_val = df[int(len(df) * 0.8):int(len(df) * 0.9)]\n",
    "    df_test = df[int(len(df) * 0.9):]\n",
    "    \n",
    "    return df_train, df_val, df_test"
   ]
  },
  {
   "cell_type": "code",
   "execution_count": null,
   "metadata": {},
   "outputs": [],
   "source": [
    "df = process_data(df)"
   ]
  },
  {
   "cell_type": "code",
   "execution_count": null,
   "metadata": {},
   "outputs": [],
   "source": [
    "df.head()"
   ]
  },
  {
   "cell_type": "code",
   "execution_count": null,
   "metadata": {},
   "outputs": [],
   "source": [
    "# plot the distribution of the evaluation column\n",
    "plt.hist(df['Normalized Evaluation'], bins=100)"
   ]
  },
  {
   "cell_type": "code",
   "execution_count": null,
   "metadata": {},
   "outputs": [],
   "source": [
    "# print length of data in dataframe with normalized evaluation between -1 and 1\n",
    "print(len(df[(df['Normalized Evaluation'] > -10) & (df['Normalized Evaluation'] < 10)]))"
   ]
  },
  {
   "cell_type": "code",
   "execution_count": null,
   "metadata": {},
   "outputs": [],
   "source": [
    "# print min and max of the normalized evaluation column\n",
    "print(df['Normalized Evaluation'].max())\n",
    "print(len(df[(df['Normalized Evaluation'] <= -15) | (df['Normalized Evaluation'] >= 15)]))"
   ]
  },
  {
   "cell_type": "code",
   "execution_count": null,
   "metadata": {},
   "outputs": [],
   "source": [
    "# print example with normalized evaluation of -15\n",
    "df[(df['Normalized Evaluation'] < 0.1) & (df[\"Normalized Evaluation\"] > -0.1)].head()[\"FEN\"].iloc[0]"
   ]
  },
  {
   "cell_type": "code",
   "execution_count": null,
   "metadata": {},
   "outputs": [],
   "source": [
    "len(df)"
   ]
  },
  {
   "cell_type": "code",
   "execution_count": null,
   "metadata": {},
   "outputs": [],
   "source": []
  }
 ],
 "metadata": {
  "kernelspec": {
   "display_name": "Python 3.9.2 64-bit",
   "language": "python",
   "name": "python3"
  },
  "language_info": {
   "codemirror_mode": {
    "name": "ipython",
    "version": 3
   },
   "file_extension": ".py",
   "mimetype": "text/x-python",
   "name": "python",
   "nbconvert_exporter": "python",
   "pygments_lexer": "ipython3",
   "version": "3.8.10"
  },
  "orig_nbformat": 4,
  "vscode": {
   "interpreter": {
    "hash": "31f2aee4e71d21fbe5cf8b01ff0e069b9275f58929596ceb00d14d90e3e16cd6"
   }
  }
 },
 "nbformat": 4,
 "nbformat_minor": 2
}
